{
  "metadata": {
    "kernelspec": {
      "name": "python",
      "display_name": "Python (Pyodide)",
      "language": "python"
    },
    "language_info": {
      "codemirror_mode": {
        "name": "python",
        "version": 3
      },
      "file_extension": ".py",
      "mimetype": "text/x-python",
      "name": "python",
      "nbconvert_exporter": "python",
      "pygments_lexer": "ipython3",
      "version": "3.8"
    }
  },
  "nbformat_minor": 4,
  "nbformat": 4,
  "cells": [
    {
      "cell_type": "markdown",
      "source": "# Etape 2 : Recherche de plus courts chemins\n## Partie 2 – du 29 avril au 18 mai\n### Algorithmes de plus courts chemins\n1. Créer des fonctions « plus court chemin » entre deux sommets en utilisant les différents algorithmes vus en cours de Graphes (Dijkstra, Bellmann,  Floyd Warshall).",
      "metadata": {}
    },
    {
      "cell_type": "markdown",
      "source": "#### Importation des données et modification de la fonction distanceGPS (pour l'algorithme à heuristique A*)",
      "metadata": {}
    },
    {
      "cell_type": "code",
      "source": "import json\nimport pandas as pd\nimport numpy as np\nimport os\n\nos.chdir('F:\\Desktop\\S2\\S2.02\\Partie_2')\n\nimport timeit \nimport copy\n\n# import dicsucc.json et dicsuccdist.json (--> dictionnaire)\nwith open(\"dicsucc.json\", \"r\") as fichier:\n    dicsucc = json.load(fichier)\nwith open(\"dicsuccdist.json\", \"r\") as fichier:\n    dicsuccdist = json.load(fichier)\n\n# import aretes.csv (--> dataframe) et transformation de lstpoints (chaîne-->liste)\naretes = pd.read_table('aretes.csv', sep  =';', index_col= 0)\n\nfor ind in aretes.index :\n    ls = aretes.loc[ind,'lstpoints'].replace(\" \",\"\").replace(\"]\", \"\").replace(\"[\", \"\").split(',')\n    lst = []\n    for val in ls :\n        lst.append(int(val))\n    aretes.at[ind,'lstpoints'] = lst\n\n\n# import sommets.csv, matrice_poids.csv (--> dataframe)\nsommets = pd.read_table('sommets.csv', sep  =';', index_col= 0)\nmatrice_poids = pd.read_csv('matrice_poids.csv', sep = ';', index_col = 0)\n\n# transformation dataframe matrice des poids en tableau    \ntableau_poids = np.array(matrice_poids)\n\n# transformation matrice des poids en liste de listes\nliste_poids = [[None for j in range(len(tableau_poids))] for i in range(len(tableau_poids))]\nfor i in range(len(tableau_poids)):\n    for j in range(len(tableau_poids)):\n        liste_poids[i][j]  = tableau_poids[i,j]\n\n#Les fichiers issus de Floyd Warshall\npoids = np.load('poids.npy')\npred = np.load('pred.npy',allow_pickle=True)\n\n# Creation d'une variable d'indice pour les sommets du graphe\nsommets['indice'] = 0\ni = 0\nfor sommet in sommets.index:\n    sommets.at[sommet,'indice'] = i\n    i+=1\n\ndef distanceGPSRapide(latA,latB,longA,longB):\n    # Conversions des latitudes en radians\n    ltA=latA/180*3.14 \n    ltB=latB/180*3.14 # on n'utilise pas math.pi car couteux a l'algorithme\n    loA=longA/180*3.14\n    loB=longB/180*3.14\n    \n    # Rayon de la terre en mètres \n    RT = 6378137\n    \n    # angle en radians entre les 2 points\n    S = math.acos(math.sin(ltA)*math.sin(ltB) + math.cos(ltA)*math.cos(ltB)*math.cos(abs(loB-loA)))\n    \n    # distance entre les 2 points, comptée sur un arc de grand cercle\n    return S*RT",
      "metadata": {
        "trusted": true
      },
      "outputs": [
        {
          "ename": "<class 'FileNotFoundError'>",
          "evalue": "[Errno 44] No such file or directory: 'F:\\\\Desktop\\\\S2\\\\S2.02\\\\Partie_2'",
          "traceback": [
            "\u001b[0;31m---------------------------------------------------------------------------\u001b[0m",
            "\u001b[0;31mFileNotFoundError\u001b[0m                         Traceback (most recent call last)",
            "Cell \u001b[0;32mIn[10], line 6\u001b[0m\n\u001b[1;32m      3\u001b[0m \u001b[38;5;28;01mimport\u001b[39;00m \u001b[38;5;21;01mnumpy\u001b[39;00m \u001b[38;5;28;01mas\u001b[39;00m \u001b[38;5;21;01mnp\u001b[39;00m\n\u001b[1;32m      4\u001b[0m \u001b[38;5;28;01mimport\u001b[39;00m \u001b[38;5;21;01mos\u001b[39;00m\n\u001b[0;32m----> 6\u001b[0m \u001b[43mos\u001b[49m\u001b[38;5;241;43m.\u001b[39;49m\u001b[43mchdir\u001b[49m\u001b[43m(\u001b[49m\u001b[38;5;124;43m'\u001b[39;49m\u001b[38;5;124;43mF:\u001b[39;49m\u001b[38;5;124;43m\\\u001b[39;49m\u001b[38;5;124;43mDesktop\u001b[39;49m\u001b[38;5;124;43m\\\u001b[39;49m\u001b[38;5;124;43mS2\u001b[39;49m\u001b[38;5;124;43m\\\u001b[39;49m\u001b[38;5;124;43mS2.02\u001b[39;49m\u001b[38;5;124;43m\\\u001b[39;49m\u001b[38;5;124;43mPartie_2\u001b[39;49m\u001b[38;5;124;43m'\u001b[39;49m\u001b[43m)\u001b[49m\n\u001b[1;32m      8\u001b[0m \u001b[38;5;28;01mimport\u001b[39;00m \u001b[38;5;21;01mtimeit\u001b[39;00m \n\u001b[1;32m      9\u001b[0m \u001b[38;5;28;01mimport\u001b[39;00m \u001b[38;5;21;01mcopy\u001b[39;00m\n",
            "\u001b[0;31mFileNotFoundError\u001b[0m: [Errno 44] No such file or directory: 'F:\\\\Desktop\\\\S2\\\\S2.02\\\\Partie_2'"
          ],
          "output_type": "error"
        }
      ],
      "execution_count": 10
    },
    {
      "cell_type": "markdown",
      "source": "#### Dijkstra(depart, arrivee)",
      "metadata": {}
    },
    {
      "cell_type": "markdown",
      "source": "Temps d'exécution : 0.0083 seconde",
      "metadata": {}
    },
    {
      "cell_type": "code",
      "source": "deb = timeit.default_timer()\n\n\ndef dijkstra(depart, arrivee):\n    # Initialise un dico de distances pour suivre les distances les plus courtes à partir du sommet de depart\n    distances = {sommet: float('inf') for sommet in dicsuccdist}\n    distances[depart] = 0\n    \n    # Initialise un dico de predecesseurs pour les pred de chaque sommets\n    predecesseurs = {sommet: None for sommet in dicsuccdist}\n    \n    # Initialise une file de priorite avec le sommet de depart\n    a_traiter = [(0, depart)]\n    \n    while a_traiter:\n        # Trouve le sommet avec la plus petite distance dans la file de priorite\n        min_distance, min_sommet = min(a_traiter)\n        \n        # Supprime le sommet avec la plus petite distance de la file de priorite\n        a_traiter.remove((min_distance, min_sommet))\n        \n        # Si le sommet avec la distance minimale est le sommet de destination, reconstruis et retourne le chemin\n        if str(min_sommet) == str(arrivee):\n            chemin = []\n            sommet_actuel = arrivee\n            \n            while sommet_actuel is not None:\n                chemin.insert(0,int(sommet_actuel)) #On l'insere en premier (indice 0)\n                sommet_actuel = predecesseurs[sommet_actuel]\n            return chemin, distances[str(arrivee)]\n        \n        # Explore les voisins du sommet actuel\n        for voisin, poids in dicsuccdist[str(min_sommet)]:\n            distance = distances[min_sommet] + poids\n            # Met a jour la distance si la nouvelle distance est plus courte\n            if distance < distances[str(voisin)]:\n                distances[str(voisin)] = distance\n                predecesseurs[str(voisin)] = min_sommet\n                # Ajoute le voisin à la file de priorité\n                a_traiter.append((distance, str(voisin)))\n    \n    # Si le sommet de destination n'est pas accessible à partir du sommet de départ, retourne un chemin vide et une distance infinie\n    return [], float('inf')\n\nsommet_depart = '10180904249'\nsommet_arrivee = '254053905'\n\nplus_court_chemin, plus_courte_distance = dijkstra(sommet_depart, sommet_arrivee)\nprint(\"Chemin le plus court du noeud\", sommet_depart, \"au noeud\", sommet_arrivee + \":\", plus_court_chemin)\nprint(\"Distance la plus courte:\", plus_courte_distance)\n\nfin = timeit.default_timer()\nprint(\"\\n \\n Temps d'execution de Dijkstra : \", round(fin-deb,4), \" seconde.s\")",
      "metadata": {
        "trusted": true
      },
      "outputs": [
        {
          "ename": "<class 'NameError'>",
          "evalue": "name 'timeit' is not defined",
          "traceback": [
            "\u001b[0;31m---------------------------------------------------------------------------\u001b[0m",
            "\u001b[0;31mNameError\u001b[0m                                 Traceback (most recent call last)",
            "Cell \u001b[0;32mIn[7], line 1\u001b[0m\n\u001b[0;32m----> 1\u001b[0m deb \u001b[38;5;241m=\u001b[39m \u001b[43mtimeit\u001b[49m\u001b[38;5;241m.\u001b[39mdefault_timer()\n\u001b[1;32m      4\u001b[0m \u001b[38;5;28;01mdef\u001b[39;00m \u001b[38;5;21mdijkstra\u001b[39m(depart, arrivee):\n\u001b[1;32m      5\u001b[0m     \u001b[38;5;66;03m# Initialise un dico de distances pour suivre les distances les plus courtes à partir du sommet de depart\u001b[39;00m\n\u001b[1;32m      6\u001b[0m     distances \u001b[38;5;241m=\u001b[39m {sommet: \u001b[38;5;28mfloat\u001b[39m(\u001b[38;5;124m'\u001b[39m\u001b[38;5;124minf\u001b[39m\u001b[38;5;124m'\u001b[39m) \u001b[38;5;28;01mfor\u001b[39;00m sommet \u001b[38;5;129;01min\u001b[39;00m dicsuccdist}\n",
            "\u001b[0;31mNameError\u001b[0m: name 'timeit' is not defined"
          ],
          "output_type": "error"
        }
      ],
      "execution_count": 7
    },
    {
      "cell_type": "markdown",
      "source": "#### Bellman(depart, arrivee)",
      "metadata": {}
    },
    {
      "cell_type": "markdown",
      "source": "Temps d'exécution : 0.0602 seconde",
      "metadata": {}
    },
    {
      "cell_type": "code",
      "source": "deb = timeit.default_timer()\n\ndef bellman(depart, arrivee):\n    valeurAChange = True\n    # Initialise un dictionnaire de distances pour suivre les distances les plus courtes à partir du sommet de depart\n    distances = {sommet: float('inf') for sommet in dicsuccdist}\n    distances[depart] = 0\n    \n    # Initialise un dictionnaire des pred pour suivre les prédécesseurs de chaque sommet\n    predecesseurs = {sommet: None for sommet in dicsuccdist}\n    \n    # Parcours de toutes les arcs pour détendre les arcs\n    while(valeurAChange):\n        valeurAChange = False\n        for sommet in dicsuccdist:\n            for voisin, poids in dicsuccdist[sommet]:\n                if distances[str(sommet)] + poids < distances[str(voisin)]:\n                    valeurAChange = True\n                    distances[str(voisin)] = distances[str(sommet)] + poids\n                    predecesseurs[str(voisin)] = sommet\n    \n    # Reconstitution et retour du chemin\n    chemin = []\n    sommet_courant = arrivee\n    while sommet_courant is not None:\n        chemin.insert(0, int(sommet_courant))\n        sommet_courant = predecesseurs[str(sommet_courant)]\n    \n    return chemin, distances[arrivee]\n\nsommet_depart = '10180904249'\nsommet_arrivee = '254053905'\n\nplus_court_chemin, plus_courte_distance = bellman(sommet_depart, sommet_arrivee)\nprint(\"Chemin le plus court du sommet\", sommet_depart, \"au sommet\", sommet_arrivee + \":\", plus_court_chemin)\nprint(\"Distance la plus courte :\", plus_courte_distance)\n\nfin = timeit.default_timer()\nprint(\"\\n \\n Temps d'excution de Bellman : \", round(fin-deb,4), \" seconde.s\")",
      "metadata": {
        "trusted": true
      },
      "outputs": [
        {
          "ename": "<class 'NameError'>",
          "evalue": "name 'timeit' is not defined",
          "traceback": [
            "\u001b[0;31m---------------------------------------------------------------------------\u001b[0m",
            "\u001b[0;31mNameError\u001b[0m                                 Traceback (most recent call last)",
            "Cell \u001b[0;32mIn[13], line 1\u001b[0m\n\u001b[0;32m----> 1\u001b[0m deb \u001b[38;5;241m=\u001b[39m \u001b[43mtimeit\u001b[49m\u001b[38;5;241m.\u001b[39mdefault_timer()\n\u001b[1;32m      3\u001b[0m \u001b[38;5;28;01mdef\u001b[39;00m \u001b[38;5;21mbellman\u001b[39m(depart, arrivee):\n\u001b[1;32m      4\u001b[0m     valeurAChange \u001b[38;5;241m=\u001b[39m \u001b[38;5;28;01mTrue\u001b[39;00m\n",
            "\u001b[0;31mNameError\u001b[0m: name 'timeit' is not defined"
          ],
          "output_type": "error"
        }
      ],
      "execution_count": 13
    },
    {
      "cell_type": "markdown",
      "source": "#### Floyd Warshall (Génération de la matrice des prédecesseurs et des poids)",
      "metadata": {}
    },
    {
      "cell_type": "markdown",
      "source": "Temps d'exécution : 443.4485 secondes (7 minutes 20 s environ)",
      "metadata": {}
    },
    {
      "cell_type": "code",
      "source": "deb = timeit.default_timer()\n\ndef Floyd():\n    # initialisation des matrices des poids et des predecesseurs\n    M = copy.deepcopy(tableau_poids)\n    P = np.array([[None for i in range(len(M))] for j in range(len(M))])\n\n    #on ajoute les predecesseurs quand il y a un poids aux memes coordonnees dans M\n    for i in range (len(M)):\n        for j in range(len(M)):\n            if M[i][j] != 0 and M[i][j] != np.inf :\n                P[i][j] = i\n                \n    #boucle principale, a l'etape n, on traite la ligne n et la colonne n de la matrice M\n    for etape in range(len(M)):\n        print(etape)\n        colonne = []\n        ligne = []\n        \n        #on recupere les arcs qui ont des poids (en colonne)\n        for i in range(len(M)):\n            if M[i][etape] != 0 and M[i][etape] != np.inf:\n                colonne.append(i)\n        #on recupere les arcs qui ont des poids (en ligne)\n        for j in range(len(M)):\n            if M[etape][j] != 0 and M[etape][j] != np.inf:\n                ligne.append(j)\n                \n        #double boucle pour parcourir notre les deux listes de couples\n        for i in colonne:\n            for j in ligne:\n                somme = M[i,etape] + M[etape,j]\n                #si l'ancien arc est plus lourd que l'arc passant par \"etape\"\n                if M[i,j] > somme:\n                    #on remplace l'ancien poids par le nouveau\n                    M[i,j] = somme\n                    #on remplace le pred par P[etape,j]\n                    P[i,j] = P[etape,j]\n\n    return M, P\n\npoids, pred = Floyd()\n\nfin = timeit.default_timer()\nprint(\"\\n \\n Temps d'execution de Floyd : \", round(fin-deb,4), \" seconde.s\")",
      "metadata": {
        "trusted": true
      },
      "outputs": [
        {
          "ename": "<class 'NameError'>",
          "evalue": "name 'timeit' is not defined",
          "traceback": [
            "\u001b[0;31m---------------------------------------------------------------------------\u001b[0m",
            "\u001b[0;31mNameError\u001b[0m                                 Traceback (most recent call last)",
            "Cell \u001b[0;32mIn[5], line 1\u001b[0m\n\u001b[0;32m----> 1\u001b[0m deb \u001b[38;5;241m=\u001b[39m \u001b[43mtimeit\u001b[49m\u001b[38;5;241m.\u001b[39mdefault_timer()\n\u001b[1;32m      3\u001b[0m \u001b[38;5;28;01mdef\u001b[39;00m \u001b[38;5;21mFloyd\u001b[39m():\n\u001b[1;32m      4\u001b[0m     \u001b[38;5;66;03m# initialisation des matrices des poids et des predecesseurs\u001b[39;00m\n\u001b[1;32m      5\u001b[0m     M \u001b[38;5;241m=\u001b[39m copy\u001b[38;5;241m.\u001b[39mdeepcopy(tableau_poids)\n",
            "\u001b[0;31mNameError\u001b[0m: name 'timeit' is not defined"
          ],
          "output_type": "error"
        }
      ],
      "execution_count": 5
    },
    {
      "cell_type": "markdown",
      "source": "#### FloydWarshall(depart, arrivee) - (Reconstitution du chemin + distance séparant les deux sommets)\nTemps d'exécution : 0.0001 seconde",
      "metadata": {}
    },
    {
      "cell_type": "code",
      "source": "deb = timeit.default_timer()\n\ndef FloydWarshall(depart, arrivee):\n    chemin = []\n    actuel = sommets.loc[arrivee, 'indice']\n    debut = sommets.loc[depart, 'indice']\n    distance = 0\n    while actuel != debut:\n        chemin.append(sommets.index[actuel])\n        actuel = pred[debut,actuel]\n    chemin.append(sommets.index[debut])\n    distance = poids[debut,sommets.loc[arrivee, 'indice']]\n    return chemin[::-1], distance\n\nsommet_depart = 10180904249\nsommet_arrivee = 254053905\n\n# Appel de la fonction\nplus_court_chemin, plus_courte_distance = FloydWarshall(sommet_depart, sommet_arrivee)\n\nfin = timeit.default_timer()\nprint(\"Chemin le plus court du sommet\", sommet_depart, \"au sommet\", sommet_arrivee, \":\", plus_court_chemin)\nprint(\"Distance la plus courte :\", plus_courte_distance)\n\nprint(\"\\n \\n Temps d'execution de Floyd Warshall : \", round(fin-deb,4), \" seconde.s\")",
      "metadata": {
        "trusted": true
      },
      "outputs": [
        {
          "ename": "<class 'NameError'>",
          "evalue": "name 'timeit' is not defined",
          "traceback": [
            "\u001b[0;31m---------------------------------------------------------------------------\u001b[0m",
            "\u001b[0;31mNameError\u001b[0m                                 Traceback (most recent call last)",
            "Cell \u001b[0;32mIn[6], line 1\u001b[0m\n\u001b[0;32m----> 1\u001b[0m deb \u001b[38;5;241m=\u001b[39m \u001b[43mtimeit\u001b[49m\u001b[38;5;241m.\u001b[39mdefault_timer()\n\u001b[1;32m      3\u001b[0m \u001b[38;5;28;01mdef\u001b[39;00m \u001b[38;5;21mFloydWarshall\u001b[39m(depart, arrivee):\n\u001b[1;32m      4\u001b[0m     chemin \u001b[38;5;241m=\u001b[39m []\n",
            "\u001b[0;31mNameError\u001b[0m: name 'timeit' is not defined"
          ],
          "output_type": "error"
        }
      ],
      "execution_count": 6
    },
    {
      "cell_type": "markdown",
      "source": "2.      Heuristique A*\n#### AEtoile(depart, arrivee)",
      "metadata": {}
    },
    {
      "cell_type": "markdown",
      "source": "Temps d'exécution : 0.0312 seconde (Peut descendre jusqu'à 0.0134 seconde en pondérant l'heuristique, cependant le programme ne renvoie plus tout à fait la distance LA plus courte)",
      "metadata": {}
    },
    {
      "cell_type": "code",
      "source": "deb = timeit.default_timer()\n\ndef AEtoile(depart, arrivee):\n    # Initialise un dictionnaire de distances pour suivre les distances les plus courtes à partir du sommet de départ\n    distances = {sommet: float('inf') for sommet in dicsuccdist}\n    distances[depart] = 0\n    \n    # Initialise un dictionnaire de prédécesseurs pour suivre les prédécesseurs de chaque sommet\n    predecesseurs = {sommet: None for sommet in dicsuccdist}\n    \n    # Initialise une file de priorité avec le sommet de départ\n    a_traiter = [(0, depart)]\n    \n    while a_traiter:\n        # Trouve le sommet avec la plus petite distance dans la file de priorité\n        min_distance, min_sommet = min(a_traiter)\n        \n        # Supprime le sommet avec la plus petite distance de la file de priorité\n        a_traiter.remove((min_distance, min_sommet))\n        \n        # Si le sommet avec la distance minimale est le sommet de destination, reconstruis et retourne le chemin\n        if str(min_sommet) == str(arrivee):\n            chemin = []\n            sommet_actuel = arrivee\n            \n            while sommet_actuel is not None:\n                chemin.insert(0,int(sommet_actuel)) #On l'insère en indice 0\n                sommet_actuel = predecesseurs[sommet_actuel]\n            return chemin, distances[str(arrivee)]\n        \n        # Explore les voisins du sommet actuel\n        for voisin, poids in dicsuccdist[str(min_sommet)]:\n            distance = distances[min_sommet] + poids\n            # Met à jour la distance si la nouvelle distance est plus courte\n            if distance < distances[str(voisin)]:\n                distances[str(voisin)] = distance\n                predecesseurs[str(voisin)] = min_sommet\n                # On utilise la distance géographique restante comme heuristique\n                heuristique = distanceGPSRapide(sommets.loc[voisin,'lat'],sommets.loc[int(arrivee),'lat'], sommets.loc[voisin,'lon'],sommets.loc[int(arrivee),'lon'])\n                # Ajoute le voisin à la file de priorité\n                a_traiter.append((distance + heuristique, str(voisin)))\n    \n    # Si le sommet de destination n'est pas accessible à partir du sommet de départ, retourne un chemin vide et une distance infinie\n    return [], float('inf')\n\nsommet_depart = '10180904249'\nsommet_arrivee = '254053905'\n\nplus_court_chemin, plus_courte_distance = AEtoile(sommet_depart, sommet_arrivee)\nprint(\"Chemin le plus court du noeud\", sommet_depart, \"au noeud\", sommet_arrivee + \":\", plus_court_chemin)\nprint(\"Distance la plus courte:\", plus_courte_distance)\n\nfin = timeit.default_timer()\nprint(\"\\n \\n Temps d'execution de A* : \", round(fin-deb,4), \" seconde.s\")",
      "metadata": {
        "trusted": true
      },
      "outputs": [
        {
          "ename": "<class 'NameError'>",
          "evalue": "name 'timeit' is not defined",
          "traceback": [
            "\u001b[0;31m---------------------------------------------------------------------------\u001b[0m",
            "\u001b[0;31mNameError\u001b[0m                                 Traceback (most recent call last)",
            "Cell \u001b[0;32mIn[6], line 1\u001b[0m\n\u001b[0;32m----> 1\u001b[0m deb \u001b[38;5;241m=\u001b[39m \u001b[43mtimeit\u001b[49m\u001b[38;5;241m.\u001b[39mdefault_timer()\n\u001b[1;32m      3\u001b[0m \u001b[38;5;28;01mdef\u001b[39;00m \u001b[38;5;21mAEtoile\u001b[39m(depart, arrivee):\n\u001b[1;32m      4\u001b[0m     \u001b[38;5;66;03m# Initialise un dictionnaire de distances pour suivre les distances les plus courtes à partir du sommet de départ\u001b[39;00m\n\u001b[1;32m      5\u001b[0m     distances \u001b[38;5;241m=\u001b[39m {sommet: \u001b[38;5;28mfloat\u001b[39m(\u001b[38;5;124m'\u001b[39m\u001b[38;5;124minf\u001b[39m\u001b[38;5;124m'\u001b[39m) \u001b[38;5;28;01mfor\u001b[39;00m sommet \u001b[38;5;129;01min\u001b[39;00m dicsuccdist}\n",
            "\u001b[0;31mNameError\u001b[0m: name 'timeit' is not defined"
          ],
          "output_type": "error"
        }
      ],
      "execution_count": 6
    },
    {
      "cell_type": "markdown",
      "source": "3.      Comparer l’efficacité des différents algorithmes\n\nA chaque exécution d'une de ces fonctions, le temps d'exécution est affiché de manière à pouvoir comparer leur efficacité.\n\nLe plus lent est évidement le calcul des matrices des prédécesseurs et des poids issues de Floyd Warshall avec un temps d'exécution de 443.4485 secondes.\n\nCependant, la reconstitution du chemin et l'accès à la distance séparant les deux sommets sont quasiment instantanés, ce qui fait de FloydWarshall, une fois les matrices importées, l'algorithme \"le plus rapide\" avec un temps d'exécution de 0.0001 seconde. \n\nEnsuite, des 3 algorithmes qui parcourent le dictionnaire pondéré, A* est sensé être le plus rapide car il s'agit d'une amémlioration de Dijkstra en l'aiguillant vers le sommet d'arrivée. Le calcul de la distance GPS étant un peu couteux, sur ce graphe Dijkstra tourne un petit plus rapidement qu'A*. \n\nDijkstra est le plus rapide des 3 en 0.0083 seconde, puis A* en 0.0312 seconde, et enfin Bellman en 0.0602 seconde.",
      "metadata": {}
    }
  ]
}