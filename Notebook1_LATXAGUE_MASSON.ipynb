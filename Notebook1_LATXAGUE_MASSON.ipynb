{
  "metadata": {
    "kernelspec": {
      "name": "python",
      "display_name": "Python (Pyodide)",
      "language": "python"
    },
    "language_info": {
      "codemirror_mode": {
        "name": "python",
        "version": 3
      },
      "file_extension": ".py",
      "mimetype": "text/x-python",
      "name": "python",
      "nbconvert_exporter": "python",
      "pygments_lexer": "ipython3",
      "version": "3.8"
    }
  },
  "nbformat_minor": 4,
  "nbformat": 4,
  "cells": [
    {
      "cell_type": "markdown",
      "source": "# S2.02\n## Etape 1 : Prise en main des données et représentation du graphe\n\n",
      "metadata": {}
    },
    {
      "cell_type": "markdown",
      "source": "### 1. Importer les données dans des Dataframe Python",
      "metadata": {}
    },
    {
      "cell_type": "code",
      "source": "\"\"\"\n@author : Latxague Thibault / Rafael Masson\n\"\"\"\n\n#importations de bibliotheques\nimport pandas as pd\nimport numpy as np\nimport matplotlib.pyplot as plt\nimport os\nimport math\nimport timeit\n\n#choix du repertoire par defaut\nos.chdir('F:\\Desktop\\S2\\S2.02') #Mettre le répertoire des fichiers\n\n#importation des dataframes\narcs=pd.read_table('arcs.csv',sep=\";\",encoding='ANSI')\npoints=pd.read_table('points.csv',index_col=0,sep=\";\",encoding='ANSI')",
      "metadata": {
        "trusted": true
      },
      "outputs": [
        {
          "ename": "<class 'FileNotFoundError'>",
          "evalue": "[Errno 44] No such file or directory: 'F:\\\\Desktop\\\\S2\\\\S2.02'",
          "traceback": [
            "\u001b[0;31m---------------------------------------------------------------------------\u001b[0m",
            "\u001b[0;31mFileNotFoundError\u001b[0m                         Traceback (most recent call last)",
            "Cell \u001b[0;32mIn[2], line 14\u001b[0m\n\u001b[1;32m     11\u001b[0m \u001b[38;5;28;01mimport\u001b[39;00m \u001b[38;5;21;01mtimeit\u001b[39;00m\n\u001b[1;32m     13\u001b[0m \u001b[38;5;66;03m#choix du repertoire par defaut\u001b[39;00m\n\u001b[0;32m---> 14\u001b[0m \u001b[43mos\u001b[49m\u001b[38;5;241;43m.\u001b[39;49m\u001b[43mchdir\u001b[49m\u001b[43m(\u001b[49m\u001b[38;5;124;43m'\u001b[39;49m\u001b[38;5;124;43mF:\u001b[39;49m\u001b[38;5;124;43m\\\u001b[39;49m\u001b[38;5;124;43mDesktop\u001b[39;49m\u001b[38;5;124;43m\\\u001b[39;49m\u001b[38;5;124;43mS2\u001b[39;49m\u001b[38;5;124;43m\\\u001b[39;49m\u001b[38;5;124;43mS2.02\u001b[39;49m\u001b[38;5;124;43m'\u001b[39;49m\u001b[43m)\u001b[49m \n\u001b[1;32m     16\u001b[0m \u001b[38;5;66;03m#importation des dataframes\u001b[39;00m\n\u001b[1;32m     17\u001b[0m arcs\u001b[38;5;241m=\u001b[39mpd\u001b[38;5;241m.\u001b[39mread_table(\u001b[38;5;124m'\u001b[39m\u001b[38;5;124marcs.csv\u001b[39m\u001b[38;5;124m'\u001b[39m,sep\u001b[38;5;241m=\u001b[39m\u001b[38;5;124m\"\u001b[39m\u001b[38;5;124m;\u001b[39m\u001b[38;5;124m\"\u001b[39m,encoding\u001b[38;5;241m=\u001b[39m\u001b[38;5;124m'\u001b[39m\u001b[38;5;124mANSI\u001b[39m\u001b[38;5;124m'\u001b[39m)\n",
            "\u001b[0;31mFileNotFoundError\u001b[0m: [Errno 44] No such file or directory: 'F:\\\\Desktop\\\\S2\\\\S2.02'"
          ],
          "output_type": "error"
        }
      ],
      "execution_count": 2
    },
    {
      "cell_type": "markdown",
      "source": "### Création des fonctions intéressantes",
      "metadata": {}
    },
    {
      "cell_type": "markdown",
      "source": "#### Obtention de tous les points d'un arc (en int)",
      "metadata": {}
    },
    {
      "cell_type": "code",
      "source": "def obtenirLesPoints(chaine):\n    \n    c = chaine.replace('[','').split(',')\n    points = []\n    for i in range(len(c)):\n        if i != len(c)-1: #Si on n'est pas déjà à la fin de notre liste\n            points.append(int(c[i]))\n        else:\n            points.append(int(c[i].replace(']',''))) #on modifie le dernier elt sans ] \n    return points",
      "metadata": {
        "trusted": true
      },
      "outputs": [],
      "execution_count": 8
    },
    {
      "cell_type": "markdown",
      "source": "#### Obtention des extrémités d'un arc (en int)",
      "metadata": {}
    },
    {
      "cell_type": "code",
      "source": "def obtenirLesPointsExtremes(chaine):\n    #Dans cette partie, on décompose notre chaine en chaine de nombres (sans [, ], et ,)\n    c = chaine.replace('[','').split(',')\n    points = []\n    points.append(int(c[0])) #Le premier elt de la liste\n    points.append(int(c[-1].replace(']',''))) #Le dernier elt de la liste\n    \n    return points",
      "metadata": {
        "trusted": true
      },
      "outputs": [],
      "execution_count": 9
    },
    {
      "cell_type": "markdown",
      "source": "#### Distance GPS",
      "metadata": {}
    },
    {
      "cell_type": "code",
      "source": "def distanceGPS(latA,latB,longA,longB):\n    # Conversions des latitudes en radians\n    ltA=latA/180*math.pi\n    ltB=latB/180*math.pi\n    loA=longA/180*math.pi\n    loB=longB/180*math.pi\n    \n    # Rayon de la terre en mètres \n    RT = 6378137\n    \n    # angle en radians entre les 2 points\n    S = math.acos(round(math.sin(ltA)*math.sin(ltB) + math.cos(ltA)*math.cos(ltB)*math.cos(abs(loB-loA)),20))\n    \n    # distance entre les 2 points, comptée sur un arc de grand cercle\n    return S*RT",
      "metadata": {
        "trusted": true
      },
      "outputs": [],
      "execution_count": 10
    },
    {
      "cell_type": "markdown",
      "source": "#### Calcul des poids",
      "metadata": {}
    },
    {
      "cell_type": "code",
      "source": "def poidsArc(chaine):\n    latitude = []\n    longitude = []\n    distanceTotale = 0\n\n    for point in obtenirLesPoints(chaine):\n        latitude.append(points.loc[[point], ['lat']].values[0])\n        longitude.append(points.loc[[point], ['lon']].values[0])\n\n    for i in range(len(latitude)-1):\n        v = distanceGPS(latitude[i], latitude[i+1], longitude[i], longitude[i+1])\n        distanceTotale += v\n    \n    return distanceTotale",
      "metadata": {
        "trusted": true
      },
      "outputs": [],
      "execution_count": 11
    },
    {
      "cell_type": "markdown",
      "source": "### 2. Réflexion sur le graphe et 3. Le graphe",
      "metadata": {}
    },
    {
      "cell_type": "markdown",
      "source": "- Les sommets uniques du graphe\n- La liste de ces sommets uniques dans un Dataframe",
      "metadata": {}
    },
    {
      "cell_type": "code",
      "source": "#%% 3 - Le graphe / a -- choix du dataframe plutot que du dictionnaire\n\n#On créé notre nouveau dataframe avec une colonne unique nommée sommet\nsommetsUniques = pd.DataFrame(columns=['Sommet'])\n\n#Cette partie permet d'ajouter à notre df un sommet, ssi il n'existe pas déjà dans le df\nfor lstpoint in arcs['lstpoints']:\n    for sommetExt in obtenirLesPointsExtremes(lstpoint):\n        if not sommetsUniques['Sommet'].isin([sommetExt]).any():\n            sommetsUniques.loc[len(sommetsUniques)] = [sommetExt]\n            \nsommetsUniques.set_index('Sommet',inplace=True)\n\n#On concatène nos df pour avoir toutes les informations des sommets sélectionnés\nsommetsUniques = pd.merge(sommetsUniques, points, left_on='Sommet',right_index=True,how=\"inner\")\n",
      "metadata": {
        "trusted": true
      },
      "outputs": [
        {
          "ename": "<class 'NameError'>",
          "evalue": "name 'arcs' is not defined",
          "traceback": [
            "\u001b[0;31m---------------------------------------------------------------------------\u001b[0m",
            "\u001b[0;31mNameError\u001b[0m                                 Traceback (most recent call last)",
            "Cell \u001b[0;32mIn[3], line 7\u001b[0m\n\u001b[1;32m      4\u001b[0m sommetsUniques \u001b[38;5;241m=\u001b[39m pd\u001b[38;5;241m.\u001b[39mDataFrame(columns\u001b[38;5;241m=\u001b[39m[\u001b[38;5;124m'\u001b[39m\u001b[38;5;124mSommet\u001b[39m\u001b[38;5;124m'\u001b[39m])\n\u001b[1;32m      6\u001b[0m \u001b[38;5;66;03m#Cette partie permet d'ajouter à notre df un sommet, ssi il n'existe pas déjà dans le df\u001b[39;00m\n\u001b[0;32m----> 7\u001b[0m \u001b[38;5;28;01mfor\u001b[39;00m lstpoint \u001b[38;5;129;01min\u001b[39;00m \u001b[43marcs\u001b[49m[\u001b[38;5;124m'\u001b[39m\u001b[38;5;124mlstpoints\u001b[39m\u001b[38;5;124m'\u001b[39m]:\n\u001b[1;32m      8\u001b[0m     \u001b[38;5;28;01mfor\u001b[39;00m sommetExt \u001b[38;5;129;01min\u001b[39;00m obtenirLesPointsExtremes(lstpoint):\n\u001b[1;32m      9\u001b[0m         \u001b[38;5;28;01mif\u001b[39;00m \u001b[38;5;129;01mnot\u001b[39;00m sommetsUniques[\u001b[38;5;124m'\u001b[39m\u001b[38;5;124mSommet\u001b[39m\u001b[38;5;124m'\u001b[39m]\u001b[38;5;241m.\u001b[39misin([sommetExt])\u001b[38;5;241m.\u001b[39many():\n",
            "\u001b[0;31mNameError\u001b[0m: name 'arcs' is not defined"
          ],
          "output_type": "error"
        }
      ],
      "execution_count": 3
    },
    {
      "cell_type": "markdown",
      "source": "Création des sommets de début et de fin de chaque arc",
      "metadata": {}
    },
    {
      "cell_type": "code",
      "source": "arcs['pointsInt'] = pd.Series(dtype=object) #On le définit de type objet pour pouvoir stocker les listes d'int\narcs['pointDeb'] = 0\narcs['pointFin'] = 0\n\nfor index in range(len(arcs)):\n    chemin = arcs.iloc[index]['lstpoints']\n    arcs.at[index, 'pointsInt'] = obtenirLesPoints(chemin)\n\nfor index in range(len(arcs)):\n    debut = arcs.iloc[index]['pointsInt']\n    arcs.at[index, 'pointDeb'] = debut[0]\n    arcs.at[index, 'pointFin'] = debut[-1]",
      "metadata": {
        "trusted": true
      },
      "outputs": [
        {
          "ename": "<class 'NameError'>",
          "evalue": "name 'arcs' is not defined",
          "traceback": [
            "\u001b[0;31m---------------------------------------------------------------------------\u001b[0m",
            "\u001b[0;31mNameError\u001b[0m                                 Traceback (most recent call last)",
            "Cell \u001b[0;32mIn[4], line 1\u001b[0m\n\u001b[0;32m----> 1\u001b[0m \u001b[43marcs\u001b[49m[\u001b[38;5;124m'\u001b[39m\u001b[38;5;124mpointsInt\u001b[39m\u001b[38;5;124m'\u001b[39m] \u001b[38;5;241m=\u001b[39m pd\u001b[38;5;241m.\u001b[39mSeries(dtype\u001b[38;5;241m=\u001b[39m\u001b[38;5;28mobject\u001b[39m) \u001b[38;5;66;03m#On le définit de type objet pour pouvoir stocker les listes d'int\u001b[39;00m\n\u001b[1;32m      2\u001b[0m arcs[\u001b[38;5;124m'\u001b[39m\u001b[38;5;124mpointDeb\u001b[39m\u001b[38;5;124m'\u001b[39m] \u001b[38;5;241m=\u001b[39m \u001b[38;5;241m0\u001b[39m\n\u001b[1;32m      3\u001b[0m arcs[\u001b[38;5;124m'\u001b[39m\u001b[38;5;124mpointFin\u001b[39m\u001b[38;5;124m'\u001b[39m] \u001b[38;5;241m=\u001b[39m \u001b[38;5;241m0\u001b[39m\n",
            "\u001b[0;31mNameError\u001b[0m: name 'arcs' is not defined"
          ],
          "output_type": "error"
        }
      ],
      "execution_count": 4
    },
    {
      "cell_type": "markdown",
      "source": "Création de la matrice d'adjacence sous forme de Dataframe",
      "metadata": {}
    },
    {
      "cell_type": "code",
      "source": "# Initialisation de la matrice d'adjacence avec un DataFrame vide\nmatriceAdjDf = pd.DataFrame(data = 0, index=sommetsUniques.index, columns=sommetsUniques.index)\n\n# Remplissage de la matrice d'adjacence\ndeb = timeit.default_timer()\nfor i in arcs.index:\n    matriceAdjDf.at[arcs.loc[i,'pointDeb'],arcs.loc[i,'pointFin']] = 1\nfin = timeit.default_timer()\nprint(\"Temps d'excution du remplissage du DataFrame matriceAdjDf : \", round(fin-deb,4), \" seconde.s\")",
      "metadata": {
        "trusted": true
      },
      "outputs": [],
      "execution_count": null
    },
    {
      "cell_type": "markdown",
      "source": "Création de dictionnaire de successeurs ",
      "metadata": {}
    },
    {
      "cell_type": "code",
      "source": "# Initialisation du dictionnaire des successeurs reprensentant le graphe\ndicoSucc = dict()\n\nfor sommet in sommetsUniques.index:\n    dicoSucc[sommet] = []\n    \n# Remplissage du dictionnaire\n\nfor i in range(len(arcs.index)):\n    sommetDeb = arcs.loc[i,'pointDeb']\n    sommetFin = arcs.loc[i,'pointFin']\n    if sommetFin not in dicoSucc[sommetDeb]:\n        dicoSucc[sommetDeb].append(sommetFin)\n    if sommetDeb not in dicoSucc[sommetFin]:\n        dicoSucc[sommetFin].append(sommetDeb)\nfin = timeit.default_timer()\nprint(\"Temps d'excution du remplissage du dictionnaire des successeurs dicoSucc : \", round(fin-deb,4), \" seconde.s\")",
      "metadata": {
        "trusted": true
      },
      "outputs": [
        {
          "ename": "<class 'NameError'>",
          "evalue": "name 'arcs' is not defined",
          "traceback": [
            "\u001b[0;31m---------------------------------------------------------------------------\u001b[0m",
            "\u001b[0;31mNameError\u001b[0m                                 Traceback (most recent call last)",
            "Cell \u001b[0;32mIn[5], line 9\u001b[0m\n\u001b[1;32m      5\u001b[0m     dicoSucc[sommet] \u001b[38;5;241m=\u001b[39m []\n\u001b[1;32m      7\u001b[0m \u001b[38;5;66;03m# Remplissage du dictionnaire\u001b[39;00m\n\u001b[0;32m----> 9\u001b[0m \u001b[38;5;28;01mfor\u001b[39;00m i \u001b[38;5;129;01min\u001b[39;00m \u001b[38;5;28mrange\u001b[39m(\u001b[38;5;28mlen\u001b[39m(\u001b[43marcs\u001b[49m\u001b[38;5;241m.\u001b[39mindex)):\n\u001b[1;32m     10\u001b[0m     sommetDeb \u001b[38;5;241m=\u001b[39m arcs\u001b[38;5;241m.\u001b[39mloc[i,\u001b[38;5;124m'\u001b[39m\u001b[38;5;124mpointDeb\u001b[39m\u001b[38;5;124m'\u001b[39m]\n\u001b[1;32m     11\u001b[0m     sommetFin \u001b[38;5;241m=\u001b[39m arcs\u001b[38;5;241m.\u001b[39mloc[i,\u001b[38;5;124m'\u001b[39m\u001b[38;5;124mpointFin\u001b[39m\u001b[38;5;124m'\u001b[39m]\n",
            "\u001b[0;31mNameError\u001b[0m: name 'arcs' is not defined"
          ],
          "output_type": "error"
        }
      ],
      "execution_count": 5
    },
    {
      "cell_type": "markdown",
      "source": "### 4. Le graphe pondéré",
      "metadata": {}
    },
    {
      "cell_type": "markdown",
      "source": "Calcul des poids des arcs",
      "metadata": {}
    },
    {
      "cell_type": "code",
      "source": "#%% 4 - Le graphe pondere / a - poids des arcs\n\ndeb = timeit.default_timer()\narcs['PoidsArc']=0\n\nfor index in range(len(arcs)):\n    chemin = arcs.iloc[index]['lstpoints']\n    arcs.at[index, 'PoidsArc'] = poidsArc(chemin)\nfin = timeit.default_timer()\nprint(\"Temps d'excution du remplissage du calcul du poids des arcs (arcs['PoidsArc']) : \", round(fin-deb,4), \" seconde.s\")",
      "metadata": {
        "trusted": true
      },
      "outputs": [
        {
          "ename": "<class 'NameError'>",
          "evalue": "name 'arcs' is not defined",
          "traceback": [
            "\u001b[0;31m---------------------------------------------------------------------------\u001b[0m",
            "\u001b[0;31mNameError\u001b[0m                                 Traceback (most recent call last)",
            "Cell \u001b[0;32mIn[6], line 4\u001b[0m\n\u001b[1;32m      1\u001b[0m \u001b[38;5;66;03m#%% 4 - Le graphe pondere / a - poids des arcs\u001b[39;00m\n\u001b[1;32m      3\u001b[0m deb \u001b[38;5;241m=\u001b[39m timeit\u001b[38;5;241m.\u001b[39mdefault_timer()\n\u001b[0;32m----> 4\u001b[0m \u001b[43marcs\u001b[49m[\u001b[38;5;124m'\u001b[39m\u001b[38;5;124mPoidsArc\u001b[39m\u001b[38;5;124m'\u001b[39m]\u001b[38;5;241m=\u001b[39m\u001b[38;5;241m0\u001b[39m\n\u001b[1;32m      6\u001b[0m \u001b[38;5;28;01mfor\u001b[39;00m index \u001b[38;5;129;01min\u001b[39;00m \u001b[38;5;28mrange\u001b[39m(\u001b[38;5;28mlen\u001b[39m(arcs)):\n\u001b[1;32m      7\u001b[0m     chemin \u001b[38;5;241m=\u001b[39m arcs\u001b[38;5;241m.\u001b[39miloc[index][\u001b[38;5;124m'\u001b[39m\u001b[38;5;124mlstpoints\u001b[39m\u001b[38;5;124m'\u001b[39m]\n",
            "\u001b[0;31mNameError\u001b[0m: name 'arcs' is not defined"
          ],
          "output_type": "error"
        }
      ],
      "execution_count": 6
    },
    {
      "cell_type": "markdown",
      "source": "Représentation du graphe pondéré sous forme d'un Dataframe",
      "metadata": {}
    },
    {
      "cell_type": "code",
      "source": "#%% 4 - Le graphe pondere / b - representation du graphe pondere\n\n# Initialisation de la matrice des poids avec un DataFrame vide\nmatricePoids = pd.DataFrame(data = float(0), index=sommetsUniques.index, columns=sommetsUniques.index)\n\n# Remplissage de la matrice des poids\ndeb = timeit.default_timer()\nfor i in arcs.index:\n    matricePoids.at[arcs.loc[i,'pointDeb'],arcs.loc[i,'pointFin']] = arcs.loc[i,'PoidsArc']\nfin = timeit.default_timer()\nprint(\"Temps d'excution du remplissage du DataFrame matricePoids : \", round(fin-deb,4), \" seconde.s\")",
      "metadata": {
        "trusted": true
      },
      "outputs": [
        {
          "ename": "<class 'NameError'>",
          "evalue": "name 'arcs' is not defined",
          "traceback": [
            "\u001b[0;31m---------------------------------------------------------------------------\u001b[0m",
            "\u001b[0;31mNameError\u001b[0m                                 Traceback (most recent call last)",
            "Cell \u001b[0;32mIn[7], line 8\u001b[0m\n\u001b[1;32m      6\u001b[0m \u001b[38;5;66;03m# Remplissage de la matrice des poids\u001b[39;00m\n\u001b[1;32m      7\u001b[0m deb \u001b[38;5;241m=\u001b[39m timeit\u001b[38;5;241m.\u001b[39mdefault_timer()\n\u001b[0;32m----> 8\u001b[0m \u001b[38;5;28;01mfor\u001b[39;00m i \u001b[38;5;129;01min\u001b[39;00m \u001b[43marcs\u001b[49m\u001b[38;5;241m.\u001b[39mindex:\n\u001b[1;32m      9\u001b[0m     matricePoids\u001b[38;5;241m.\u001b[39mat[arcs\u001b[38;5;241m.\u001b[39mloc[i,\u001b[38;5;124m'\u001b[39m\u001b[38;5;124mpointDeb\u001b[39m\u001b[38;5;124m'\u001b[39m],arcs\u001b[38;5;241m.\u001b[39mloc[i,\u001b[38;5;124m'\u001b[39m\u001b[38;5;124mpointFin\u001b[39m\u001b[38;5;124m'\u001b[39m]] \u001b[38;5;241m=\u001b[39m arcs\u001b[38;5;241m.\u001b[39mloc[i,\u001b[38;5;124m'\u001b[39m\u001b[38;5;124mPoidsArc\u001b[39m\u001b[38;5;124m'\u001b[39m]\n\u001b[1;32m     10\u001b[0m fin \u001b[38;5;241m=\u001b[39m timeit\u001b[38;5;241m.\u001b[39mdefault_timer()\n",
            "\u001b[0;31mNameError\u001b[0m: name 'arcs' is not defined"
          ],
          "output_type": "error"
        }
      ],
      "execution_count": 7
    },
    {
      "cell_type": "markdown",
      "source": "Représentation du graphe pondéré sous forme d'un dictionnaire",
      "metadata": {}
    },
    {
      "cell_type": "code",
      "source": "# Initialisation du dictionnaire des successeurs pondere\ndicoPoids = dict()\n\nfor sommet in sommetsUniques.index:\n    dicoPoids[sommet] = []\n    \n# Remplissage du dictionnaire\ndeb = timeit.default_timer()\n\nfor i in range(len(arcs.index)):\n    sommetDeb = arcs.loc[i,'pointDeb']\n    sommetFin = arcs.loc[i,'pointFin']\n    poidsArc = arcs.loc[i,'PoidsArc']\n    \n    test = False\n    for couple in dicoPoids[sommetDeb]:\n        if sommetFin == couple[0]:\n            test = True\n    if test == False:\n        coupleSomVal = (sommetFin,poidsArc)\n        dicoPoids[sommetDeb].append(coupleSomVal)\n        \n    test = False\n    for couple in dicoPoids[sommetFin]:\n        if sommetDeb == couple[0]:\n            test = True\n    if test == False:\n        coupleSomVal = (sommetDeb,poidsArc)\n        dicoPoids[sommetFin].append(coupleSomVal)\n        \nfin = timeit.default_timer()\nprint(\"Temps d'excution du remplissage du dictionnaire des successeurs pondere dicoPoids : \", round(fin-deb,4), \" seconde.s\")",
      "metadata": {
        "trusted": true
      },
      "outputs": [
        {
          "ename": "<class 'NameError'>",
          "evalue": "name 'arcs' is not defined",
          "traceback": [
            "\u001b[0;31m---------------------------------------------------------------------------\u001b[0m",
            "\u001b[0;31mNameError\u001b[0m                                 Traceback (most recent call last)",
            "Cell \u001b[0;32mIn[12], line 10\u001b[0m\n\u001b[1;32m      7\u001b[0m \u001b[38;5;66;03m# Remplissage du dictionnaire\u001b[39;00m\n\u001b[1;32m      8\u001b[0m deb \u001b[38;5;241m=\u001b[39m timeit\u001b[38;5;241m.\u001b[39mdefault_timer()\n\u001b[0;32m---> 10\u001b[0m \u001b[38;5;28;01mfor\u001b[39;00m i \u001b[38;5;129;01min\u001b[39;00m \u001b[38;5;28mrange\u001b[39m(\u001b[38;5;28mlen\u001b[39m(\u001b[43marcs\u001b[49m\u001b[38;5;241m.\u001b[39mindex)):\n\u001b[1;32m     11\u001b[0m     sommetDeb \u001b[38;5;241m=\u001b[39m arcs\u001b[38;5;241m.\u001b[39mloc[i,\u001b[38;5;124m'\u001b[39m\u001b[38;5;124mpointDeb\u001b[39m\u001b[38;5;124m'\u001b[39m]\n\u001b[1;32m     12\u001b[0m     sommetFin \u001b[38;5;241m=\u001b[39m arcs\u001b[38;5;241m.\u001b[39mloc[i,\u001b[38;5;124m'\u001b[39m\u001b[38;5;124mpointFin\u001b[39m\u001b[38;5;124m'\u001b[39m]\n",
            "\u001b[0;31mNameError\u001b[0m: name 'arcs' is not defined"
          ],
          "output_type": "error"
        }
      ],
      "execution_count": 12
    },
    {
      "cell_type": "code",
      "source": "",
      "metadata": {
        "trusted": true
      },
      "outputs": [],
      "execution_count": null
    }
  ]
}